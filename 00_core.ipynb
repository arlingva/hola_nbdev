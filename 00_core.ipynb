{
 "cells": [
  {
   "cell_type": "code",
   "execution_count": null,
   "metadata": {},
   "outputs": [],
   "source": [
    "# default_exp core"
   ]
  },
  {
   "cell_type": "markdown",
   "metadata": {},
   "source": [
    "# module name here\n",
    "> API details."
   ]
  },
  {
   "cell_type": "code",
   "execution_count": null,
   "metadata": {},
   "outputs": [],
   "source": [
    "#!pip install git+https://github.com/fastai/fastai2 \n",
    "#!pip install git+https://github.com/fastai/fastcore\n",
    "#!python -m pip install git+https://github.com/fastai/fastai.git"
   ]
  },
  {
   "cell_type": "code",
   "execution_count": null,
   "metadata": {},
   "outputs": [],
   "source": [
    "#hide\n",
    "from fastai2.torch_basics import *\n",
    "from fastcore.test import *\n",
    "from nbdev.showdoc import *"
   ]
  },
  {
   "cell_type": "code",
   "execution_count": null,
   "metadata": {},
   "outputs": [],
   "source": [
    "#export\n",
    "def say_hello(to):\n",
    "    \"Say hello to somebody\"\n",
    "    return f'Hello {to}!'"
   ]
  },
  {
   "cell_type": "code",
   "execution_count": null,
   "metadata": {},
   "outputs": [
    {
     "data": {
      "text/plain": [
       "'Hello Pirata!'"
      ]
     },
     "execution_count": null,
     "metadata": {},
     "output_type": "execute_result"
    }
   ],
   "source": [
    "say_hello(\"Pirata\")"
   ]
  },
  {
   "cell_type": "code",
   "execution_count": null,
   "metadata": {},
   "outputs": [],
   "source": [
    "assert say_hello(\"Jeremy\")==\"Hello Jeremy!\""
   ]
  },
  {
   "cell_type": "code",
   "execution_count": null,
   "metadata": {},
   "outputs": [],
   "source": [
    "#export\n",
    "class HelloSayer:\n",
    "    \"Say hello to `to` using `say_hello`\"\n",
    "    def __init__(self, to): self.to = to\n",
    "\n",
    "    def say(self):\n",
    "        \"Do the saying\"\n",
    "        return say_hello(self.to)"
   ]
  },
  {
   "cell_type": "code",
   "execution_count": null,
   "metadata": {},
   "outputs": [
    {
     "data": {
      "text/markdown": [
       "<h4 id=\"HelloSayer.say\" class=\"doc_header\"><code>HelloSayer.say</code><a href=\"__main__.py#L6\" class=\"source_link\" style=\"float:right\">[source]</a></h4>\n",
       "\n",
       "> <code>HelloSayer.say</code>()\n",
       "\n",
       "Do the saying"
      ],
      "text/plain": [
       "<IPython.core.display.Markdown object>"
      ]
     },
     "metadata": {},
     "output_type": "display_data"
    }
   ],
   "source": [
    "show_doc(HelloSayer.say)"
   ]
  },
  {
   "cell_type": "markdown",
   "metadata": {},
   "source": [
    "Example"
   ]
  },
  {
   "cell_type": "code",
   "execution_count": null,
   "metadata": {},
   "outputs": [
    {
     "data": {
      "text/plain": [
       "'Hello Alexis!'"
      ]
     },
     "execution_count": null,
     "metadata": {},
     "output_type": "execute_result"
    }
   ],
   "source": [
    "o = HelloSayer(\"Alexis\")\n",
    "o.say()"
   ]
  },
  {
   "cell_type": "markdown",
   "metadata": {},
   "source": [
    "#hide\n",
    "Notebooks con funciones:\n",
    "\n",
    "https://nbviewer.jupyter.org/github/mbakker7/exploratory_computing_with_python/blob/master/notebook4_functions/py_exploratory_comp_4_sol.ipynb\n",
    "\n",
    "https://nbviewer.jupyter.org/github/ClickSecurity/data_hacking/blob/master/dga_detection/DGA_Domain_Detection.ipynb\n",
    "    \n",
    "https://nbviewer.jupyter.org/github/amplab/datascience-sp14/blob/master/hw2/HW2.ipynb\n",
    "\n",
    "https://nbviewer.jupyter.org/gist/twiecki/3962843\n",
    "\n"
   ]
  },
  {
   "cell_type": "code",
   "execution_count": null,
   "metadata": {},
   "outputs": [
    {
     "name": "stdout",
     "output_type": "stream",
     "text": [
      "0.049787068367863944\n"
     ]
    }
   ],
   "source": [
    "#export\n",
    "def func(x):\n",
    "    if x < 0:\n",
    "        f = np.cos(x)\n",
    "    else:\n",
    "        f = np.exp(-x)\n",
    "    return f\n",
    "\n",
    "print(func(3))"
   ]
  },
  {
   "cell_type": "code",
   "execution_count": null,
   "metadata": {},
   "outputs": [
    {
     "data": {
      "text/markdown": [
       "<h4 id=\"func\" class=\"doc_header\"><code>func</code><a href=\"__main__.py#L2\" class=\"source_link\" style=\"float:right\">[source]</a></h4>\n",
       "\n",
       "> <code>func</code>(**`x`**)\n",
       "\n"
      ],
      "text/plain": [
       "<IPython.core.display.Markdown object>"
      ]
     },
     "metadata": {},
     "output_type": "display_data"
    }
   ],
   "source": [
    "show_doc(func)"
   ]
  },
  {
   "cell_type": "code",
   "execution_count": null,
   "metadata": {},
   "outputs": [],
   "source": [
    "#hide\n",
    "import pandas as pd\n",
    "\n",
    "DATA_PATH = \"hw2data\" # Make this the /path/to/the/data"
   ]
  },
  {
   "cell_type": "code",
   "execution_count": null,
   "metadata": {},
   "outputs": [],
   "source": [
    "#export\n",
    "def parse_artists_tags(filename):\n",
    "    df = pd.read_csv(filename, sep=\"|\", names=[\"ArtistID\", \"ArtistName\", \"Tag\", \"Count\"])\n",
    "    return df"
   ]
  },
  {
   "cell_type": "code",
   "execution_count": null,
   "metadata": {},
   "outputs": [],
   "source": [
    "#export\n",
    "def parse_user_artists_matrix(filename):\n",
    "    df = pd.read_csv(filename)\n",
    "    return df"
   ]
  },
  {
   "cell_type": "code",
   "execution_count": null,
   "metadata": {},
   "outputs": [],
   "source": [
    "#hide\n",
    "artists_tags = parse_artists_tags(DATA_PATH + \"/artists-tags.txt\")\n",
    "user_art_mat = parse_user_artists_matrix(DATA_PATH + \"/userart-mat-training.csv\")"
   ]
  },
  {
   "cell_type": "code",
   "execution_count": null,
   "metadata": {},
   "outputs": [
    {
     "name": "stdout",
     "output_type": "stream",
     "text": [
      "Number of tags 0\n",
      "Number of artists 0\n"
     ]
    },
    {
     "data": {
      "text/plain": [
       "20907"
      ]
     },
     "execution_count": null,
     "metadata": {},
     "output_type": "execute_result"
    }
   ],
   "source": [
    "#hide\n",
    "print (\"Number of tags %d\" % 0) # Change this line. Should be 952803\n",
    "print (\"Number of artists %d\" % 0) # Change this line. Should be 17119\n",
    "artists_tags.Tag.count()\n",
    "artists_tags.ArtistID.nunique()"
   ]
  },
  {
   "cell_type": "code",
   "execution_count": null,
   "metadata": {},
   "outputs": [
    {
     "data": {
      "text/html": [
       "<div>\n",
       "<style scoped>\n",
       "    .dataframe tbody tr th:only-of-type {\n",
       "        vertical-align: middle;\n",
       "    }\n",
       "\n",
       "    .dataframe tbody tr th {\n",
       "        vertical-align: top;\n",
       "    }\n",
       "\n",
       "    .dataframe thead th {\n",
       "        text-align: right;\n",
       "    }\n",
       "</style>\n",
       "<table border=\"1\" class=\"dataframe\">\n",
       "  <thead>\n",
       "    <tr style=\"text-align: right;\">\n",
       "      <th></th>\n",
       "      <th>YEAR</th>\n",
       "      <th>SUNACTIVITY</th>\n",
       "    </tr>\n",
       "  </thead>\n",
       "  <tbody>\n",
       "    <tr>\n",
       "      <th>0</th>\n",
       "      <td>1700.0</td>\n",
       "      <td>5.0</td>\n",
       "    </tr>\n",
       "    <tr>\n",
       "      <th>1</th>\n",
       "      <td>1701.0</td>\n",
       "      <td>11.0</td>\n",
       "    </tr>\n",
       "    <tr>\n",
       "      <th>2</th>\n",
       "      <td>1702.0</td>\n",
       "      <td>16.0</td>\n",
       "    </tr>\n",
       "    <tr>\n",
       "      <th>3</th>\n",
       "      <td>1703.0</td>\n",
       "      <td>23.0</td>\n",
       "    </tr>\n",
       "    <tr>\n",
       "      <th>4</th>\n",
       "      <td>1704.0</td>\n",
       "      <td>36.0</td>\n",
       "    </tr>\n",
       "  </tbody>\n",
       "</table>\n",
       "</div>"
      ],
      "text/plain": [
       "     YEAR  SUNACTIVITY\n",
       "0  1700.0          5.0\n",
       "1  1701.0         11.0\n",
       "2  1702.0         16.0\n",
       "3  1703.0         23.0\n",
       "4  1704.0         36.0"
      ]
     },
     "execution_count": null,
     "metadata": {},
     "output_type": "execute_result"
    }
   ],
   "source": [
    "#hide\n",
    "import statsmodels.api as sm\n",
    "import pandas as pd\n",
    "data_loader = sm.datasets.sunspots.load_pandas()\n",
    "df = data_loader.data\n",
    "df.head()"
   ]
  },
  {
   "cell_type": "code",
   "execution_count": null,
   "metadata": {},
   "outputs": [
    {
     "data": {
      "text/plain": [
       "49    0.9\n",
       "50    0.4\n",
       "51    0.7\n",
       "52    0.8\n",
       "53    0.7\n",
       "Name: SUNACTIVITY, dtype: float64"
      ]
     },
     "execution_count": null,
     "metadata": {},
     "output_type": "execute_result"
    }
   ],
   "source": [
    "#hide\n",
    "fractional_nums = df['SUNACTIVITY'].apply(lambda x: x % 1) #Take the modulo of each value with 1 to get the fractional part\n",
    "fractional_nums[fractional_nums > 0].head()"
   ]
  },
  {
   "cell_type": "code",
   "execution_count": null,
   "metadata": {},
   "outputs": [
    {
     "name": "stdout",
     "output_type": "stream",
     "text": [
      "count    309.000000\n",
      "mean      49.752104\n",
      "std       40.452595\n",
      "min        0.000000\n",
      "25%       16.000000\n",
      "50%       40.000000\n",
      "75%       69.800000\n",
      "max      190.200000\n",
      "Name: SUNACTIVITY, dtype: float64\n"
     ]
    }
   ],
   "source": [
    "#hide\n",
    "print (df['SUNACTIVITY'].describe())"
   ]
  },
  {
   "cell_type": "code",
   "execution_count": null,
   "metadata": {},
   "outputs": [
    {
     "data": {
      "text/plain": [
       "<AxesSubplot:xlabel='YEAR'>"
      ]
     },
     "execution_count": null,
     "metadata": {},
     "output_type": "execute_result"
    },
    {
     "data": {
      "image/png": "[encoded data removed]",
      "text/plain": [
       "<Figure size 432x288 with 1 Axes>"
      ]
     },
     "metadata": {
      "needs_background": "light"
     },
     "output_type": "display_data"
    }
   ],
   "source": [
    "#hide\n",
    "df.plot(x='YEAR', y='SUNACTIVITY', xlim=(1700,2008))"
   ]
  },
  {
   "cell_type": "code",
   "execution_count": null,
   "metadata": {},
   "outputs": [
    {
     "data": {
      "text/plain": [
       "<AxesSubplot:xlabel='Lag', ylabel='Autocorrelation'>"
      ]
     },
     "execution_count": null,
     "metadata": {},
     "output_type": "execute_result"
    },
    {
     "data": {
      "image/png": "[encoded data removed]",
      "text/plain": [
       "<Figure size 432x288 with 1 Axes>"
      ]
     },
     "metadata": {
      "needs_background": "light"
     },
     "output_type": "display_data"
    }
   ],
   "source": [
    "#hide\n",
    "pd.plotting.autocorrelation_plot(df['SUNACTIVITY'])"
   ]
  },
  {
   "cell_type": "code",
   "execution_count": null,
   "metadata": {},
   "outputs": [
    {
     "data": {
      "text/plain": [
       "154"
      ]
     },
     "execution_count": null,
     "metadata": {},
     "output_type": "execute_result"
    }
   ],
   "source": [
    "#hide\n",
    "import numpy as np\n",
    "N2 = int((df.shape[0]-1) / 2)\n",
    "N2"
   ]
  },
  {
   "cell_type": "code",
   "execution_count": null,
   "metadata": {},
   "outputs": [],
   "source": [
    "#hide\n",
    "freqs = np.linspace(0, 0.5, num = N2, endpoint=False)[1:] #Nyquist range"
   ]
  },
  {
   "cell_type": "code",
   "execution_count": null,
   "metadata": {},
   "outputs": [
    {
     "data": {
      "text/plain": [
       "[<matplotlib.lines.Line2D at 0x7fc1c5b5d4c0>]"
      ]
     },
     "execution_count": null,
     "metadata": {},
     "output_type": "execute_result"
    },
    {
     "data": {
      "image/png": "[encoded data removed]",
      "text/plain": [
       "<Figure size 432x288 with 1 Axes>"
      ]
     },
     "metadata": {
      "needs_background": "light"
     },
     "output_type": "display_data"
    }
   ],
   "source": [
    "#hide\n",
    "import scipy as sp\n",
    "periodogram = sp.signal.lombscargle(df['YEAR'], df['SUNACTIVITY'], freqs * 2 * np.pi)\n",
    "plt.plot(freqs, periodogram, color='green')"
   ]
  },
  {
   "cell_type": "code",
   "execution_count": null,
   "metadata": {},
   "outputs": [
    {
     "name": "stdout",
     "output_type": "stream",
     "text": [
      "Frequency and corresponding time in years at max power: 0.09, 11.0\n"
     ]
    }
   ],
   "source": [
    "#hide\n",
    "freq_index_at_max_power = np.argmax(periodogram)\n",
    "print ('Frequency and corresponding time in years at max power: %.2f, %.1f' % (freqs[freq_index_at_max_power], 1 / freqs[freq_index_at_max_power]))"
   ]
  },
  {
   "cell_type": "code",
   "execution_count": null,
   "metadata": {},
   "outputs": [],
   "source": [
    "#hide\n",
    "v_data = df['SUNACTIVITY'].max() - df['SUNACTIVITY'].min()\n",
    "h_data = df['YEAR'].max() - df['YEAR'].min()\n",
    "v_data_diffs = df['SUNACTIVITY'].diff().apply(np.abs)\n",
    "vbar_data_diffs = v_data_diffs / v_data    \n",
    "h_data_diffs = df['YEAR'].diff().apply(np.abs)\n",
    "hbar_data_diffs = h_data_diffs / h_data"
   ]
  },
  {
   "cell_type": "code",
   "execution_count": null,
   "metadata": {},
   "outputs": [],
   "source": [
    "#export\n",
    "def objective_fcn(width_height, target):\n",
    "    dev = setup_device_coords(figsize=width_height)\n",
    "    lengths = segment_lengths(dev['aspect ratio'], dev['horizontal_device'])\n",
    "    weighted_avg_banking =  np.sum(segment_orientations(dev['aspect ratio']) * lengths) / np.sum(lengths)  \n",
    "    return np.abs(weighted_avg_banking - target)"
   ]
  },
  {
   "cell_type": "code",
   "execution_count": null,
   "metadata": {},
   "outputs": [
    {
     "data": {
      "text/markdown": [
       "<h4 id=\"objective_fcn\" class=\"doc_header\"><code>objective_fcn</code><a href=\"__main__.py#L2\" class=\"source_link\" style=\"float:right\">[source]</a></h4>\n",
       "\n",
       "> <code>objective_fcn</code>(**`width_height`**, **`target`**)\n",
       "\n"
      ],
      "text/plain": [
       "<IPython.core.display.Markdown object>"
      ]
     },
     "metadata": {},
     "output_type": "display_data"
    }
   ],
   "source": [
    "show_doc(objective_fcn)"
   ]
  },
  {
   "cell_type": "code",
   "execution_count": null,
   "metadata": {},
   "outputs": [],
   "source": [
    "#export\n",
    "def setup_device_coords(figsize=(8,6)):\n",
    "    h_device, v_device = figsize\n",
    "    fig, ax = plot_sunspots(figsize)\n",
    "    device_coords = [ax.transData.transform(data_coords) for data_coords in df.values]\n",
    "    df_device = pd.DataFrame(device_coords, columns=['YEAR', 'SUNACTIVITY'])    \n",
    "    v_device = df_device['SUNACTIVITY'].max() - df_device['SUNACTIVITY'].min()\n",
    "    h_device = df_device['YEAR'].max() - df_device['YEAR'].min()\n",
    "    aspect_ratio = v_device / h_device\n",
    "    v_conversion = v_device / v_data  \n",
    "    h_conversion = h_device / h_data\n",
    "    fig.clear()\n",
    "    return {'aspect ratio': aspect_ratio,\n",
    "            'vertical_device': v_device,\n",
    "            'horizontal_device': h_device,\n",
    "            'vertical conversion': v_conversion,\n",
    "            'horizontal conversion': h_conversion}"
   ]
  },
  {
   "cell_type": "code",
   "execution_count": null,
   "metadata": {},
   "outputs": [],
   "source": [
    "#export\n",
    "def plot_sunspots(figsize, color='blue'):\n",
    "    fig = plt.figure(figsize=figsize)\n",
    "    fig.canvas.set_window_title('%.1f by %.1f inch window' % (figsize[0], figsize[1]))\n",
    "    ax1 = fig.add_subplot(111)\n",
    "    df.plot(x='YEAR', y='SUNACTIVITY', ax=ax1, linewidth=2, color=color)\n",
    "    fig.tight_layout()\n",
    "    ax1.set_xlim(right=df['YEAR'].max())\n",
    "    ax1.set_ylim(top=df['SUNACTIVITY'].max())\n",
    "    ax1.set_ylabel('Observed Sunspots')\n",
    "    ax1.set_title('Sunspot Activity Over Time')\n",
    "    return (fig, ax1)"
   ]
  },
  {
   "cell_type": "code",
   "execution_count": null,
   "metadata": {},
   "outputs": [],
   "source": [
    "#export\n",
    "def segment_lengths(aspect_ratio, h_device):\n",
    "    return h_device * np.sqrt(hbar_data_diffs.dropna()**2 + aspect_ratio**2 * vbar_data_diffs.dropna()**2)"
   ]
  },
  {
   "cell_type": "code",
   "execution_count": null,
   "metadata": {},
   "outputs": [],
   "source": [
    "#export\n",
    "def segment_orientations(aspect_ratio):\n",
    "    return np.arctan(aspect_ratio * vbar_data_diffs / hbar_data_diffs)"
   ]
  },
  {
   "cell_type": "code",
   "execution_count": null,
   "metadata": {},
   "outputs": [
    {
     "name": "stderr",
     "output_type": "stream",
     "text": [
      "<ipython-input-124-c97eae451caa>:3: RuntimeWarning: More than 20 figures have been opened. Figures created through the pyplot interface (`matplotlib.pyplot.figure`) are retained until explicitly closed and may consume too much memory. (To control this warning, see the rcParam `figure.max_open_warning`).\n",
      "  fig = plt.figure(figsize=figsize)\n"
     ]
    }
   ],
   "source": [
    "#hide\n",
    "import scipy.optimize as spo\n",
    "target = np.radians(45)   \n",
    "slice_obj = np.s_[20:26:0.5, # widths\n",
    "                  1:4:0.5]   # heights              \n",
    "results = spo.brute(objective_fcn, slice_obj, args=[target], full_output=True, finish=None)\n",
    "optimal_dims, objective_val, search_grid, objective_grid = results"
   ]
  },
  {
   "cell_type": "code",
   "execution_count": null,
   "metadata": {},
   "outputs": [],
   "source": [
    "#hide\n",
    "plt.close('all')\n",
    "ax1 = plot_sunspots((8,6))\n",
    "print ('\\n\\nWeighted-average banking using default 8 x 6 inch plot window: 87.3 degrees (goal is 45 degrees)')"
   ]
  },
  {
   "cell_type": "code",
   "execution_count": null,
   "metadata": {},
   "outputs": [],
   "source": [
    "ax2 = plot_sunspots(optimal_dims, color='red')\n",
    "print ('\\n\\nOptimal width and height found to be %.1f by %.1f inches' % (optimal_dims[0], optimal_dims[1]))\n",
    "banking = [np.degrees(target - objective_val),\n",
    "           np.degrees(target + objective_val)]    \n",
    "print ('Average banking interval at optimized aspect ratio: (%.2f, %.2f)' % (banking[0], banking[1]))"
   ]
  },
  {
   "cell_type": "code",
   "execution_count": null,
   "metadata": {},
   "outputs": [],
   "source": []
  }
 ],
 "metadata": {
  "kernelspec": {
   "display_name": "Python 3",
   "language": "python",
   "name": "python3"
  }
 },
 "nbformat": 4,
 "nbformat_minor": 2
}
